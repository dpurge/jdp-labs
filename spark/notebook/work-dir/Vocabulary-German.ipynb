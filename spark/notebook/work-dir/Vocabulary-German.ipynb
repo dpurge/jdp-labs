{
 "cells": [
  {
   "cell_type": "markdown",
   "id": "a6c315de-3f74-4778-ac98-6f68a4d75e74",
   "metadata": {},
   "source": [
    "# German vocabulary"
   ]
  },
  {
   "cell_type": "code",
   "execution_count": 9,
   "id": "bed3817f-fba9-4843-8a58-5e00125842b9",
   "metadata": {},
   "outputs": [],
   "source": [
    "import os\n",
    "import sys\n",
    "\n",
    "from pyspark.sql import SparkSession\n",
    "\n",
    "from utils import vocabulary_schema, download_vocabulary, read_vocabulary, get_vocabulary_duplicates, save_vocabulary"
   ]
  },
  {
   "cell_type": "code",
   "execution_count": 10,
   "id": "62d81ce9-80c3-4906-9b4f-af1f6ebb8a66",
   "metadata": {},
   "outputs": [],
   "source": [
    "spark = SparkSession.builder.appName(\"GermanVocabulary\").getOrCreate()\n",
    "spark.sparkContext.setLogLevel(\"WARN\")\n",
    "\n",
    "data_folder = os.path.abspath(os.path.join('..', 'data', 'vocabulary', 'deu'))"
   ]
  },
  {
   "cell_type": "code",
   "execution_count": 11,
   "id": "6ceb98b8-bd3e-462f-9c53-73c86ac6ae2a",
   "metadata": {},
   "outputs": [],
   "source": [
    "download_vocabulary(\n",
    "    local_store=data_folder,\n",
    "    github_store='https://raw.githubusercontent.com/dpurge/jdp-flashcards/main/src/lang-vocabulary/deu',\n",
    "    github_user='dpurge',\n",
    "    github_token=os.environ.get('GITHUB_READ_TOKEN'))"
   ]
  },
  {
   "cell_type": "code",
   "execution_count": 12,
   "id": "9c9da209-f1b0-452d-a93a-b624250996b4",
   "metadata": {},
   "outputs": [
    {
     "name": "stdout",
     "output_type": "stream",
     "text": [
      "Number of records: 1920\n"
     ]
    }
   ],
   "source": [
    "vocabulary = read_vocabulary(spark_session=spark, data_folder=data_folder, schema=vocabulary_schema)\n",
    "print(f'Number of records: {vocabulary.count()}')"
   ]
  },
  {
   "cell_type": "code",
   "execution_count": 13,
   "id": "286eee4f-897b-45f7-8b03-370663454e36",
   "metadata": {},
   "outputs": [
    {
     "name": "stdout",
     "output_type": "stream",
     "text": [
      "Number of duplicated records: 65\n"
     ]
    }
   ],
   "source": [
    "duplicates = get_vocabulary_duplicates(vocabulary)\n",
    "print(f'Number of duplicated records: {duplicates.count()}')"
   ]
  },
  {
   "cell_type": "code",
   "execution_count": 14,
   "id": "2022cd33-1403-44f6-b88a-b195c99f6fb9",
   "metadata": {},
   "outputs": [],
   "source": [
    "save_vocabulary(vocabulary=duplicates, data_folder=os.path.join(data_folder, 'duplicates'))"
   ]
  }
 ],
 "metadata": {
  "kernelspec": {
   "display_name": "Python 3 (ipykernel)",
   "language": "python",
   "name": "python3"
  },
  "language_info": {
   "codemirror_mode": {
    "name": "ipython",
    "version": 3
   },
   "file_extension": ".py",
   "mimetype": "text/x-python",
   "name": "python",
   "nbconvert_exporter": "python",
   "pygments_lexer": "ipython3",
   "version": "3.8.13"
  }
 },
 "nbformat": 4,
 "nbformat_minor": 5
}
