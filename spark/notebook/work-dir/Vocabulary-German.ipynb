{
 "cells": [
  {
   "cell_type": "markdown",
   "id": "a6c315de-3f74-4778-ac98-6f68a4d75e74",
   "metadata": {},
   "source": [
    "# German vocabulary"
   ]
  },
  {
   "cell_type": "code",
   "execution_count": 67,
   "id": "bed3817f-fba9-4843-8a58-5e00125842b9",
   "metadata": {},
   "outputs": [],
   "source": [
    "from pyspark.sql import SparkSession\n",
    "from pyspark.sql.types import StructType, StructField, StringType\n",
    "from pathlib import Path\n",
    "import requests\n",
    "import toml"
   ]
  },
  {
   "cell_type": "code",
   "execution_count": 17,
   "id": "62d81ce9-80c3-4906-9b4f-af1f6ebb8a66",
   "metadata": {},
   "outputs": [],
   "source": [
    "spark = SparkSession.builder.appName(\"GermanVocabulary\").getOrCreate()\n",
    "spark.sparkContext.setLogLevel(\"WARN\")"
   ]
  },
  {
   "cell_type": "code",
   "execution_count": 58,
   "id": "6ceb98b8-bd3e-462f-9c53-73c86ac6ae2a",
   "metadata": {},
   "outputs": [],
   "source": [
    "data_folder = \"/opt/spark/data/vocabulary/deu\"\n",
    "github_user = 'dpurge'\n",
    "github_token = 'github_pat_xxxxx'\n",
    "github_data = \"https://raw.githubusercontent.com/dpurge/jdp-flashcards/main/src/lang-vocabulary/deu\""
   ]
  },
  {
   "cell_type": "code",
   "execution_count": 48,
   "id": "9fd67a00-584d-4675-b93a-953e6c4986dc",
   "metadata": {},
   "outputs": [],
   "source": [
    "Path(data_folder).mkdir(parents=True, exist_ok=True)"
   ]
  },
  {
   "cell_type": "code",
   "execution_count": 65,
   "id": "8fb792b3-2f23-4817-a1d8-0aa66e6ea9be",
   "metadata": {},
   "outputs": [
    {
     "name": "stdout",
     "output_type": "stream",
     "text": [
      "Downloaded: /opt/spark/data/vocabulary/deu/gute-reise-1982/02.csv\n",
      "Downloaded: /opt/spark/data/vocabulary/deu/gute-reise-1982/03.csv\n",
      "Downloaded: /opt/spark/data/vocabulary/deu/gute-reise-1982/04.csv\n",
      "Downloaded: /opt/spark/data/vocabulary/deu/gute-reise-1982/05.csv\n",
      "Downloaded: /opt/spark/data/vocabulary/deu/gute-reise-1982/06.csv\n",
      "Downloaded: /opt/spark/data/vocabulary/deu/gute-reise-1982/07.csv\n",
      "Downloaded: /opt/spark/data/vocabulary/deu/gute-reise-1982/08.csv\n",
      "Downloaded: /opt/spark/data/vocabulary/deu/gute-reise-1982/09.csv\n",
      "Downloaded: /opt/spark/data/vocabulary/deu/gute-reise-1982/10.csv\n",
      "Downloaded: /opt/spark/data/vocabulary/deu/gute-reise-1982/11.csv\n",
      "Downloaded: /opt/spark/data/vocabulary/deu/gute-reise-1982/12.csv\n",
      "Downloaded: /opt/spark/data/vocabulary/deu/gute-reise-1982/13.csv\n",
      "Downloaded: /opt/spark/data/vocabulary/deu/gute-reise-1982/14.csv\n",
      "Downloaded: /opt/spark/data/vocabulary/deu/gute-reise-1982/15.csv\n",
      "Downloaded: /opt/spark/data/vocabulary/deu/gute-reise-1982/16.csv\n",
      "Downloaded: /opt/spark/data/vocabulary/deu/gute-reise-1982/17.csv\n",
      "Downloaded: /opt/spark/data/vocabulary/deu/gute-reise-1982/18.csv\n",
      "Downloaded: /opt/spark/data/vocabulary/deu/gute-reise-1982/19.csv\n",
      "Downloaded: /opt/spark/data/vocabulary/deu/noskov-2017/00.csv\n",
      "Downloaded: /opt/spark/data/vocabulary/deu/noskov-2017/01.csv\n",
      "Downloaded: /opt/spark/data/vocabulary/deu/noskov-2017/02.csv\n",
      "Downloaded: /opt/spark/data/vocabulary/deu/noskov-2017/03.csv\n",
      "Downloaded: /opt/spark/data/vocabulary/deu/listvin-2016/01.csv\n",
      "Downloaded: /opt/spark/data/vocabulary/deu/listvin-2016/02.csv\n",
      "Downloaded: /opt/spark/data/vocabulary/deu/listvin-2016/03.csv\n",
      "Downloaded: /opt/spark/data/vocabulary/deu/listvin-2016/04.csv\n",
      "Downloaded: /opt/spark/data/vocabulary/deu/listvin-2016/05.csv\n",
      "Downloaded: /opt/spark/data/vocabulary/deu/listvin-2016/06.csv\n",
      "Downloaded: /opt/spark/data/vocabulary/deu/listvin-2016/07.csv\n",
      "Downloaded: /opt/spark/data/vocabulary/deu/listvin-2016/08.csv\n",
      "Downloaded: /opt/spark/data/vocabulary/deu/listvin-2016/09.csv\n",
      "Downloaded: /opt/spark/data/vocabulary/deu/listvin-2016/10.csv\n",
      "Downloaded: /opt/spark/data/vocabulary/deu/listvin-2016/11.csv\n",
      "Downloaded: /opt/spark/data/vocabulary/deu/listvin-2016/12.csv\n",
      "Downloaded: /opt/spark/data/vocabulary/deu/listvin-2016/13.csv\n",
      "Downloaded: /opt/spark/data/vocabulary/deu/listvin-2016/14.csv\n",
      "Downloaded: /opt/spark/data/vocabulary/deu/listvin-2016/15.csv\n",
      "Downloaded: /opt/spark/data/vocabulary/deu/listvin-2016/16.csv\n"
     ]
    }
   ],
   "source": [
    "cfgdata = requests.get(f'{github_data}/jdp-apkg.toml', auth=(github_user, github_token))\n",
    "cfg = toml.loads(cfgdata.text)\n",
    "for i in cfg['data']:\n",
    "    datafile = Path(f'{data_folder}/{i[\"filename\"]}')\n",
    "    datafile.parent.mkdir(parents=True, exist_ok=True)\n",
    "    if not datafile.is_file():\n",
    "        with requests.get(f'{github_data}/{i[\"filename\"]}', stream=True, auth=(github_user, github_token)) as r:\n",
    "            r.raise_for_status()\n",
    "            with datafile.open(mode='wb') as f:\n",
    "                for chunk in r.iter_content(chunk_size=8192):\n",
    "                    f.write(chunk)\n",
    "        print(f'Downloaded: {datafile}')"
   ]
  },
  {
   "cell_type": "code",
   "execution_count": 71,
   "id": "4328c8b7-e289-4f30-87fa-80521666f5e7",
   "metadata": {},
   "outputs": [],
   "source": [
    "schema = schema = StructType([\n",
    "    StructField(\"Phrase\",StringType(),False),\n",
    "    StructField(\"Grammar\",StringType(),True),\n",
    "    StructField(\"Transcription\",StringType(),True),\n",
    "    StructField(\"Translation\",StringType(),False),\n",
    "    StructField(\"Notes\",StringType(),True)\n",
    "])"
   ]
  },
  {
   "cell_type": "code",
   "execution_count": 108,
   "id": "66cf48df-76a4-4b20-a65b-35f165f8bd9b",
   "metadata": {},
   "outputs": [
    {
     "name": "stdout",
     "output_type": "stream",
     "text": [
      "Number of records: 1876\n"
     ]
    }
   ],
   "source": [
    "df = spark.read.format(\"csv\").option(\"header\",True).option(\"recursiveFileLookup\", \"true\").options(delimiter=\"\\t\").schema(schema).load(data_folder)\n",
    "print(f'Number of records: {df.count()}')"
   ]
  },
  {
   "cell_type": "code",
   "execution_count": 109,
   "id": "84742896-c19d-4be7-a81e-6f86e816f4a9",
   "metadata": {},
   "outputs": [
    {
     "name": "stdout",
     "output_type": "stream",
     "text": [
      "Number of distinct records: 1609\n"
     ]
    }
   ],
   "source": [
    "df = df.distinct()\n",
    "print(f'Number of distinct records: {df.count()}')"
   ]
  },
  {
   "cell_type": "code",
   "execution_count": 114,
   "id": "286eee4f-897b-45f7-8b03-370663454e36",
   "metadata": {},
   "outputs": [
    {
     "name": "stdout",
     "output_type": "stream",
     "text": [
      "+-------------+-------+-------------+--------------------+--------------------+\n",
      "|       Phrase|Grammar|Transcription|         Translation|               Notes|\n",
      "+-------------+-------+-------------+--------------------+--------------------+\n",
      "|    Bis bald!|   null|         null|           Na razie!|                null|\n",
      "|    Bis bald!|   null|         null|Do zobaczenia wkr...|                null|\n",
      "| Guten Abend!|   null|         null|      Dobry wieczór!|                null|\n",
      "| Guten Abend!|   null|         null|      Dobry wieczór!|    od godziny 18-ej|\n",
      "|Guten Morgen!|   null|         null|        Dzień dobry!|                rano|\n",
      "|Guten Morgen!|   null|         null|        Dzień dobry!|od rana do godzin...|\n",
      "| Platz nehmen|   null|         null|siadać; zajmować ...|                null|\n",
      "| Platz nehmen|   null|         null|       zająć miejsce|                null|\n",
      "|      Tschüs!|   null|         null|           Na razie!|                null|\n",
      "|      Tschüs!|   null|         null|              Cześć!|przy pożegnaniu d...|\n",
      "|      Tschüs!|   null|         null|              Cześć!|                null|\n",
      "|   Verzeihung|   null|         null|         przepraszam|                null|\n",
      "|   Verzeihung|   null|         null|przepraszam; pros...|                null|\n",
      "|      am Ende|   null|         null|           na koniec|                null|\n",
      "|      am Ende|   null|         null|            na końcu|                null|\n",
      "|      anrufen|   null|         null|dzwonić; telefonować|                null|\n",
      "|      anrufen|   null|         null|           zadzwonić|                null|\n",
      "|     anziehen|   null|         null|   ubierać; zakładać|                null|\n",
      "|     anziehen|   null|         null|    wkładać; ubierać|                null|\n",
      "|    aufstehen|   null|         null|             wstawać|                null|\n",
      "+-------------+-------+-------------+--------------------+--------------------+\n",
      "only showing top 20 rows\n",
      "\n"
     ]
    }
   ],
   "source": [
    "indexDuplicates = df.groupBy(\"Phrase\").count().where(\"count > 1\").drop(\"count\")\n",
    "duplicates = df.join(indexDuplicates, [\"Phrase\"],\"left_semi\").sort(\"Phrase\")\n",
    "duplicates.show()"
   ]
  },
  {
   "cell_type": "code",
   "execution_count": 122,
   "id": "2022cd33-1403-44f6-b88a-b195c99f6fb9",
   "metadata": {},
   "outputs": [],
   "source": [
    "duplicates.coalesce(1).write.mode('overwrite').options(header='True', delimiter=\"\\t\").option(\"emptyValue\", \"\").csv(f'{data_folder}/duplicates')"
   ]
  },
  {
   "cell_type": "code",
   "execution_count": null,
   "id": "f1ee9243-bbad-4461-94f1-a03a2cf9dff4",
   "metadata": {},
   "outputs": [],
   "source": []
  }
 ],
 "metadata": {
  "kernelspec": {
   "display_name": "Python 3 (ipykernel)",
   "language": "python",
   "name": "python3"
  },
  "language_info": {
   "codemirror_mode": {
    "name": "ipython",
    "version": 3
   },
   "file_extension": ".py",
   "mimetype": "text/x-python",
   "name": "python",
   "nbconvert_exporter": "python",
   "pygments_lexer": "ipython3",
   "version": "3.8.13"
  }
 },
 "nbformat": 4,
 "nbformat_minor": 5
}
