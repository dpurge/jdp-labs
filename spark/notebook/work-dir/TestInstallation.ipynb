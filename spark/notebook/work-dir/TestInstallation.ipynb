{
 "cells": [
  {
   "cell_type": "markdown",
   "id": "a96163eb-d193-4788-bb1b-53964dab1ffc",
   "metadata": {},
   "source": [
    "# Test installation"
   ]
  },
  {
   "cell_type": "code",
   "execution_count": 36,
   "id": "5e2f5504-9c81-4daa-9033-3354a1f504b9",
   "metadata": {},
   "outputs": [],
   "source": [
    "from pyspark.sql import SparkSession\n",
    "from pyspark.sql.types import StructType, StringType, IntegerType, FloatType\n",
    "from pathlib import Path\n",
    "from datetime import datetime\n",
    "import json\n",
    "import http.client\n",
    "import requests\n",
    "import sys\n",
    "import pandas\n",
    "import os\n",
    "import shutil"
   ]
  },
  {
   "cell_type": "code",
   "execution_count": 2,
   "id": "7ed66b38-f48a-4f3f-9569-dff1886c6487",
   "metadata": {},
   "outputs": [
    {
     "name": "stderr",
     "output_type": "stream",
     "text": [
      "Using Spark's default log4j profile: org/apache/spark/log4j-defaults.properties\n",
      "Setting default log level to \"WARN\".\n",
      "To adjust logging level use sc.setLogLevel(newLevel). For SparkR, use setLogLevel(newLevel).\n",
      "23/09/17 00:25:46 WARN NativeCodeLoader: Unable to load native-hadoop library for your platform... using builtin-java classes where applicable\n"
     ]
    }
   ],
   "source": [
    "spark = SparkSession.builder.appName(\"TestInstallation\").getOrCreate()\n",
    "sqlContext = SparkSession(spark)\n",
    "spark.sparkContext.setLogLevel(\"WARN\")"
   ]
  },
  {
   "cell_type": "code",
   "execution_count": 3,
   "id": "6b1d1ce4-3ad9-42fd-ac0c-3cd8c489e3a6",
   "metadata": {},
   "outputs": [
    {
     "data": {
      "text/plain": [
       "[('spark.driver.host', '58ee2d3dbe49'),\n",
       " ('spark.sql.warehouse.dir', 'file:/opt/spark/work-dir/spark-warehouse'),\n",
       " ('spark.app.id', 'local-1694910347207'),\n",
       " ('spark.rdd.compress', 'True'),\n",
       " ('spark.driver.port', '44417'),\n",
       " ('spark.serializer.objectStreamReset', '100'),\n",
       " ('spark.master', 'local[*]'),\n",
       " ('spark.submit.pyFiles', ''),\n",
       " ('spark.executor.id', 'driver'),\n",
       " ('spark.app.name', 'TestInstallation'),\n",
       " ('spark.app.startTime', '1694910346495'),\n",
       " ('spark.submit.deployMode', 'client'),\n",
       " ('spark.ui.showConsoleProgress', 'true')]"
      ]
     },
     "execution_count": 3,
     "metadata": {},
     "output_type": "execute_result"
    }
   ],
   "source": [
    "spark.sparkContext.getConf().getAll()"
   ]
  },
  {
   "cell_type": "code",
   "execution_count": 18,
   "id": "f02186af-ecef-426d-91df-963e3bbc8c64",
   "metadata": {},
   "outputs": [],
   "source": [
    "data = Path(\"/opt/spark/data\")"
   ]
  },
  {
   "cell_type": "code",
   "execution_count": 43,
   "id": "019cb053-aa7a-465c-8a3c-6deee92c9003",
   "metadata": {},
   "outputs": [],
   "source": [
    "gdp_file = str(data / 'gdp.csv')\n",
    "schema = StructType() \\\n",
    "    .add(\"CountryName\",StringType(),True) \\\n",
    "    .add(\"CountryCode\",StringType(),True) \\\n",
    "    .add(\"Year\",IntegerType(),True) \\\n",
    "    .add(\"Value\",FloatType(),True)"
   ]
  },
  {
   "cell_type": "code",
   "execution_count": 44,
   "id": "0d443a3e-0978-419d-84ab-10e1899249d9",
   "metadata": {},
   "outputs": [
    {
     "name": "stdout",
     "output_type": "stream",
     "text": [
      "root\n",
      " |-- CountryName: string (nullable = true)\n",
      " |-- CountryCode: string (nullable = true)\n",
      " |-- Year: integer (nullable = true)\n",
      " |-- Value: float (nullable = true)\n",
      "\n"
     ]
    }
   ],
   "source": [
    "df = spark.read.format(\"csv\") \\\n",
    "    .option(\"header\",True) \\\n",
    "    .schema(schema) \\\n",
    "    .load(gdp_file)\n",
    "df.printSchema()"
   ]
  },
  {
   "cell_type": "code",
   "execution_count": 41,
   "id": "17d9d5fe-4f72-4c8e-9c84-17dea1dce5a2",
   "metadata": {},
   "outputs": [
    {
     "name": "stdout",
     "output_type": "stream",
     "text": [
      "+------------+------------+----+-------------+\n",
      "|Country Name|Country Code|Year|Value        |\n",
      "+------------+------------+----+-------------+\n",
      "|Arab World  |ARB         |1968|2.5760684E10 |\n",
      "|Arab World  |ARB         |1969|2.84342026E10|\n",
      "|Arab World  |ARB         |1970|3.13854996E10|\n",
      "|Arab World  |ARB         |1971|3.6426912E10 |\n",
      "|Arab World  |ARB         |1972|4.3316056E10 |\n",
      "|Arab World  |ARB         |1973|5.5018394E10 |\n",
      "|Arab World  |ARB         |1974|1.05145803E11|\n",
      "|Arab World  |ARB         |1975|1.16337025E11|\n",
      "|Arab World  |ARB         |1976|1.44846176E11|\n",
      "|Arab World  |ARB         |1977|1.67308329E11|\n",
      "|Arab World  |ARB         |1978|1.83555539E11|\n",
      "|Arab World  |ARB         |1979|2.48646205E11|\n",
      "|Arab World  |ARB         |1980|3.38177458E11|\n",
      "|Arab World  |ARB         |1981|3.485928E11  |\n",
      "|Arab World  |ARB         |1982|3.24328751E11|\n",
      "|Arab World  |ARB         |1983|3.03962554E11|\n",
      "|Arab World  |ARB         |1984|3.07940786E11|\n",
      "|Arab World  |ARB         |1985|3.0389361E11 |\n",
      "|Arab World  |ARB         |1986|2.89029161E11|\n",
      "|Arab World  |ARB         |1987|3.12681693E11|\n",
      "+------------+------------+----+-------------+\n",
      "only showing top 20 rows\n",
      "\n"
     ]
    }
   ],
   "source": [
    "df.show(truncate=False)"
   ]
  },
  {
   "cell_type": "code",
   "execution_count": 49,
   "id": "bd78ea97-c53e-48a1-9fa8-f75dafc497a1",
   "metadata": {},
   "outputs": [],
   "source": [
    "poland = df.filter(df.CountryCode == \"POL\").select(\"Year\", \"Value\")"
   ]
  },
  {
   "cell_type": "code",
   "execution_count": 50,
   "id": "b7035d23-2ca0-4bfd-8b42-3d06ddd4f936",
   "metadata": {},
   "outputs": [
    {
     "name": "stdout",
     "output_type": "stream",
     "text": [
      "+----+-------------+\n",
      "|Year|        Value|\n",
      "+----+-------------+\n",
      "|1990|  6.597775E10|\n",
      "|1991| 8.5500936E10|\n",
      "|1992| 9.4337049E10|\n",
      "|1993| 9.6045646E10|\n",
      "|1994|1.10803395E11|\n",
      "|1995|1.42137328E11|\n",
      "|1996|1.59942885E11|\n",
      "|1997|1.59117804E11|\n",
      "|1998|1.74388265E11|\n",
      "|1999|1.69717678E11|\n",
      "|2000|1.71885593E11|\n",
      "|2001|1.90521262E11|\n",
      "|2002|1.98680642E11|\n",
      "|2003|2.17518637E11|\n",
      "|2004|2.55102255E11|\n",
      "|2005|3.06134647E11|\n",
      "|2006|3.44826446E11|\n",
      "|2007|4.29249659E11|\n",
      "|2008|5.33815788E11|\n",
      "|2009|4.40346575E11|\n",
      "+----+-------------+\n",
      "only showing top 20 rows\n",
      "\n"
     ]
    },
    {
     "name": "stderr",
     "output_type": "stream",
     "text": [
      "23/09/17 01:24:45 WARN CSVHeaderChecker: CSV header does not conform to the schema.\n",
      " Header: Country Code, Year, Value\n",
      " Schema: CountryCode, Year, Value\n",
      "Expected: CountryCode but found: Country Code\n",
      "CSV file: file:///opt/spark/data/gdp.csv\n"
     ]
    }
   ],
   "source": [
    "poland.show()"
   ]
  },
  {
   "cell_type": "code",
   "execution_count": 52,
   "id": "4b400309-dd2d-498a-b1b3-08c55e14f38e",
   "metadata": {},
   "outputs": [
    {
     "name": "stdout",
     "output_type": "stream",
     "text": [
      "\u001b[33mWARNING: The directory '/home/sparkuser/.cache/pip' or its parent directory is not owned or is not writable by the current user. The cache has been disabled. Check the permissions and owner of that directory. If executing pip with sudo, you should use sudo's -H flag.\u001b[0m\u001b[33m\n",
      "\u001b[0mCollecting matplotlib\n",
      "  Obtaining dependency information for matplotlib from https://files.pythonhosted.org/packages/08/73/a4af3493a81d6e5e1fdb4c72f4d3573a7e94b60f7c2c69ab0275fdc7cd8e/matplotlib-3.7.3-cp38-cp38-manylinux_2_12_x86_64.manylinux2010_x86_64.whl.metadata\n",
      "  Downloading matplotlib-3.7.3-cp38-cp38-manylinux_2_12_x86_64.manylinux2010_x86_64.whl.metadata (5.7 kB)\n",
      "Collecting contourpy>=1.0.1 (from matplotlib)\n",
      "  Obtaining dependency information for contourpy>=1.0.1 from https://files.pythonhosted.org/packages/8e/71/7f20855592cc929bc206810432b991ec4c702dc26b0567b132e52c85536f/contourpy-1.1.1-cp38-cp38-manylinux_2_17_x86_64.manylinux2014_x86_64.whl.metadata\n",
      "  Downloading contourpy-1.1.1-cp38-cp38-manylinux_2_17_x86_64.manylinux2014_x86_64.whl.metadata (5.9 kB)\n",
      "Collecting cycler>=0.10 (from matplotlib)\n",
      "  Downloading cycler-0.11.0-py3-none-any.whl (6.4 kB)\n",
      "Collecting fonttools>=4.22.0 (from matplotlib)\n",
      "  Obtaining dependency information for fonttools>=4.22.0 from https://files.pythonhosted.org/packages/91/f1/2379b341206a6e7e12f9d7c406ea03f0e0386eafa7913a47d8cc931cacf4/fonttools-4.42.1-cp38-cp38-manylinux_2_17_x86_64.manylinux2014_x86_64.whl.metadata\n",
      "  Downloading fonttools-4.42.1-cp38-cp38-manylinux_2_17_x86_64.manylinux2014_x86_64.whl.metadata (150 kB)\n",
      "\u001b[2K     \u001b[90m━━━━━━━━━━━━━━━━━━━━━━━━━━━━━━━━━━━━━━━\u001b[0m \u001b[32m151.0/151.0 kB\u001b[0m \u001b[31m3.4 MB/s\u001b[0m eta \u001b[36m0:00:00\u001b[0ma \u001b[36m0:00:01\u001b[0m\n",
      "\u001b[?25hCollecting kiwisolver>=1.0.1 (from matplotlib)\n",
      "  Obtaining dependency information for kiwisolver>=1.0.1 from https://files.pythonhosted.org/packages/d2/55/7021ffcc8cb26a520bb051aa0a3d08daf200cde945e5863d5768161e2d3d/kiwisolver-1.4.5-cp38-cp38-manylinux_2_5_x86_64.manylinux1_x86_64.whl.metadata\n",
      "  Downloading kiwisolver-1.4.5-cp38-cp38-manylinux_2_5_x86_64.manylinux1_x86_64.whl.metadata (6.4 kB)\n",
      "Requirement already satisfied: numpy<2,>=1.20 in /opt/conda/lib/python3.8/site-packages (from matplotlib) (1.24.4)\n",
      "Requirement already satisfied: packaging>=20.0 in /opt/conda/lib/python3.8/site-packages (from matplotlib) (23.1)\n",
      "Collecting pillow>=6.2.0 (from matplotlib)\n",
      "  Obtaining dependency information for pillow>=6.2.0 from https://files.pythonhosted.org/packages/cd/6d/07566c00ddb116a0eca1a623abda12da81099a6ff3200e5e6b7e2d3c8c2b/Pillow-10.0.1-cp38-cp38-manylinux_2_28_x86_64.whl.metadata\n",
      "  Downloading Pillow-10.0.1-cp38-cp38-manylinux_2_28_x86_64.whl.metadata (9.5 kB)\n",
      "Collecting pyparsing>=2.3.1 (from matplotlib)\n",
      "  Obtaining dependency information for pyparsing>=2.3.1 from https://files.pythonhosted.org/packages/39/92/8486ede85fcc088f1b3dba4ce92dd29d126fd96b0008ea213167940a2475/pyparsing-3.1.1-py3-none-any.whl.metadata\n",
      "  Downloading pyparsing-3.1.1-py3-none-any.whl.metadata (5.1 kB)\n",
      "Requirement already satisfied: python-dateutil>=2.7 in /opt/conda/lib/python3.8/site-packages (from matplotlib) (2.8.2)\n",
      "Requirement already satisfied: importlib-resources>=3.2.0 in /opt/conda/lib/python3.8/site-packages (from matplotlib) (6.0.1)\n",
      "Requirement already satisfied: zipp>=3.1.0 in /opt/conda/lib/python3.8/site-packages (from importlib-resources>=3.2.0->matplotlib) (3.16.2)\n",
      "Requirement already satisfied: six>=1.5 in /opt/conda/lib/python3.8/site-packages (from python-dateutil>=2.7->matplotlib) (1.16.0)\n",
      "Downloading matplotlib-3.7.3-cp38-cp38-manylinux_2_12_x86_64.manylinux2010_x86_64.whl (9.2 MB)\n",
      "\u001b[2K   \u001b[90m━━━━━━━━━━━━━━━━━━━━━━━━━━━━━━━━━━━━━━━━\u001b[0m \u001b[32m9.2/9.2 MB\u001b[0m \u001b[31m2.1 MB/s\u001b[0m eta \u001b[36m0:00:00\u001b[0m00:01\u001b[0m00:01\u001b[0m0m\n",
      "\u001b[?25hDownloading contourpy-1.1.1-cp38-cp38-manylinux_2_17_x86_64.manylinux2014_x86_64.whl (301 kB)\n",
      "\u001b[2K   \u001b[90m━━━━━━━━━━━━━━━━━━━━━━━━━━━━━━━━━━━━━━━━\u001b[0m \u001b[32m301.1/301.1 kB\u001b[0m \u001b[31m15.0 MB/s\u001b[0m eta \u001b[36m0:00:00\u001b[0m\n",
      "\u001b[?25hDownloading fonttools-4.42.1-cp38-cp38-manylinux_2_17_x86_64.manylinux2014_x86_64.whl (4.6 MB)\n",
      "\u001b[2K   \u001b[90m━━━━━━━━━━━━━━━━━━━━━━━━━━━━━━━━━━━━━━━━\u001b[0m \u001b[32m4.6/4.6 MB\u001b[0m \u001b[31m11.2 MB/s\u001b[0m eta \u001b[36m0:00:00\u001b[0ma \u001b[36m0:00:01\u001b[0m\n",
      "\u001b[?25hDownloading kiwisolver-1.4.5-cp38-cp38-manylinux_2_5_x86_64.manylinux1_x86_64.whl (1.2 MB)\n",
      "\u001b[2K   \u001b[90m━━━━━━━━━━━━━━━━━━━━━━━━━━━━━━━━━━━━━━━━\u001b[0m \u001b[32m1.2/1.2 MB\u001b[0m \u001b[31m11.9 MB/s\u001b[0m eta \u001b[36m0:00:00\u001b[0ma \u001b[36m0:00:01\u001b[0m\n",
      "\u001b[?25hDownloading Pillow-10.0.1-cp38-cp38-manylinux_2_28_x86_64.whl (3.6 MB)\n",
      "\u001b[2K   \u001b[90m━━━━━━━━━━━━━━━━━━━━━━━━━━━━━━━━━━━━━━━━\u001b[0m \u001b[32m3.6/3.6 MB\u001b[0m \u001b[31m11.3 MB/s\u001b[0m eta \u001b[36m0:00:00\u001b[0m00:01\u001b[0m00:01\u001b[0m\n",
      "\u001b[?25hDownloading pyparsing-3.1.1-py3-none-any.whl (103 kB)\n",
      "\u001b[2K   \u001b[90m━━━━━━━━━━━━━━━━━━━━━━━━━━━━━━━━━━━━━━━━\u001b[0m \u001b[32m103.1/103.1 kB\u001b[0m \u001b[31m21.5 MB/s\u001b[0m eta \u001b[36m0:00:00\u001b[0m\n",
      "\u001b[?25hInstalling collected packages: pyparsing, pillow, kiwisolver, fonttools, cycler, contourpy, matplotlib\n",
      "Successfully installed contourpy-1.1.1 cycler-0.11.0 fonttools-4.42.1 kiwisolver-1.4.5 matplotlib-3.7.3 pillow-10.0.1 pyparsing-3.1.1\n",
      "\u001b[33mWARNING: Running pip as the 'root' user can result in broken permissions and conflicting behaviour with the system package manager. It is recommended to use a virtual environment instead: https://pip.pypa.io/warnings/venv\u001b[0m\u001b[33m\n",
      "\u001b[0mNote: you may need to restart the kernel to use updated packages.\n"
     ]
    }
   ],
   "source": [
    "%pip install matplotlib"
   ]
  },
  {
   "cell_type": "code",
   "execution_count": 57,
   "id": "069f25b2-a9d1-421e-8fed-2d78fc763244",
   "metadata": {},
   "outputs": [
    {
     "name": "stderr",
     "output_type": "stream",
     "text": [
      "23/09/17 01:32:56 WARN CSVHeaderChecker: CSV header does not conform to the schema.\n",
      " Header: Country Code, Year, Value\n",
      " Schema: CountryCode, Year, Value\n",
      "Expected: CountryCode but found: Country Code\n",
      "CSV file: file:///opt/spark/data/gdp.csv\n"
     ]
    },
    {
     "data": {
      "image/png": "[encoded data removed]",
      "text/plain": [
       "<Figure size 640x480 with 1 Axes>"
      ]
     },
     "metadata": {},
     "output_type": "display_data"
    }
   ],
   "source": [
    "import matplotlib.pyplot as plt\n",
    "pol = poland.toPandas()\n",
    "pol.set_index('Year').plot()\n",
    "\n",
    "plt.show()"
   ]
  }
 ],
 "metadata": {
  "kernelspec": {
   "display_name": "Python 3 (ipykernel)",
   "language": "python",
   "name": "python3"
  },
  "language_info": {
   "codemirror_mode": {
    "name": "ipython",
    "version": 3
   },
   "file_extension": ".py",
   "mimetype": "text/x-python",
   "name": "python",
   "nbconvert_exporter": "python",
   "pygments_lexer": "ipython3",
   "version": "3.8.13"
  }
 },
 "nbformat": 4,
 "nbformat_minor": 5
}
